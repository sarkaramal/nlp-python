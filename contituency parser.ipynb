{
 "cells": [
  {
   "cell_type": "code",
   "execution_count": 5,
   "metadata": {},
   "outputs": [],
   "source": [
    "from nltk import pos_tag\n",
    "from nltk import word_tokenize\n",
    "from nltk import ne_chunk\n",
    "from nltk import Tree\n",
    "from nltk import RegexpParser"
   ]
  },
  {
   "cell_type": "code",
   "execution_count": 29,
   "metadata": {},
   "outputs": [],
   "source": [
    "sen = \"The bank of the river nile was very fertile .\"\n",
    "sen = pos_tag(word_tokenize(sen))"
   ]
  },
  {
   "cell_type": "code",
   "execution_count": 30,
   "metadata": {},
   "outputs": [],
   "source": [
    "NP = \"NP: {<DT>?<JJ>*<NN>}\"\n",
    "chunker = RegexpParser(NP)"
   ]
  },
  {
   "cell_type": "code",
   "execution_count": 31,
   "metadata": {},
   "outputs": [],
   "source": [
    "result = chunker.parse(sen)\n",
    "result.draw()"
   ]
  },
  {
   "cell_type": "markdown",
   "metadata": {},
   "source": [
    "## BERKLEY"
   ]
  },
  {
   "cell_type": "code",
   "execution_count": 33,
   "metadata": {},
   "outputs": [
    {
     "name": "stdout",
     "output_type": "stream",
     "text": [
      "Requirement already satisfied: benepar in /Users/amal/opt/anaconda3/lib/python3.6/site-packages (0.1.2)\n",
      "Requirement already satisfied: nltk>=3.2 in /Users/amal/opt/anaconda3/lib/python3.6/site-packages (from benepar) (3.5)\n",
      "Requirement already satisfied: numpy in /Users/amal/opt/anaconda3/lib/python3.6/site-packages (from benepar) (1.18.5)\n",
      "Requirement already satisfied: cython in /Users/amal/opt/anaconda3/lib/python3.6/site-packages (from benepar) (0.29.20)\n",
      "Requirement already satisfied: click in /Users/amal/opt/anaconda3/lib/python3.6/site-packages (from nltk>=3.2->benepar) (7.1.2)\n",
      "Requirement already satisfied: regex in /Users/amal/opt/anaconda3/lib/python3.6/site-packages (from nltk>=3.2->benepar) (2020.6.8)\n",
      "Requirement already satisfied: tqdm in /Users/amal/opt/anaconda3/lib/python3.6/site-packages (from nltk>=3.2->benepar) (4.47.0)\n",
      "Requirement already satisfied: joblib in /Users/amal/opt/anaconda3/lib/python3.6/site-packages (from nltk>=3.2->benepar) (0.15.1)\n"
     ]
    }
   ],
   "source": [
    "!pip install benepar"
   ]
  },
  {
   "cell_type": "code",
   "execution_count": 38,
   "metadata": {},
   "outputs": [
    {
     "name": "stderr",
     "output_type": "stream",
     "text": [
      "UsageError: Line magic function `%tensorflow_version` not found.\n"
     ]
    }
   ],
   "source": [
    "%tensorflow_version 1.x\n",
    "import benepar\n",
    "import spacy\n",
    "benepar.download('benepar_en2')"
   ]
  },
  {
   "cell_type": "code",
   "execution_count": 39,
   "metadata": {},
   "outputs": [
    {
     "data": {
      "text/plain": [
       "'(NP (NP (DT The) (NNP big) (NNP bang) (NNP theory)) (NP (NNP american) (NNP next) (NNP top) (NNP model) (NN episode)) (. .))'"
      ]
     },
     "execution_count": 39,
     "metadata": {},
     "output_type": "execute_result"
    }
   ],
   "source": [
    "from benepar.spacy_plugin import BeneparComponent\n",
    "\n",
    "# Loading spaCy’s en model and adding benepar model to its pipeline\n",
    "nlp = spacy.load('en')\n",
    "nlp.add_pipe(BeneparComponent('benepar_en2'))\n",
    "\n",
    "text='The big bang theory american next top model episode.'\n",
    "\n",
    "# Generating a parse tree for the text\n",
    "list(nlp(text).sents)[0]._.parse_string"
   ]
  },
  {
   "cell_type": "code",
   "execution_count": null,
   "metadata": {},
   "outputs": [],
   "source": []
  }
 ],
 "metadata": {
  "kernelspec": {
   "display_name": "Python 3",
   "language": "python",
   "name": "python3"
  },
  "language_info": {
   "codemirror_mode": {
    "name": "ipython",
    "version": 3
   },
   "file_extension": ".py",
   "mimetype": "text/x-python",
   "name": "python",
   "nbconvert_exporter": "python",
   "pygments_lexer": "ipython3",
   "version": "3.6.9"
  }
 },
 "nbformat": 4,
 "nbformat_minor": 4
}
